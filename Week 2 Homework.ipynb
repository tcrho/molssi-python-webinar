{
 "cells": [
  {
   "cell_type": "markdown",
   "metadata": {},
   "source": [
    "## Week 2 Homework Assignment\n",
    "\n",
    "Write code to read in the information from the xyz file and measure the distance between all the atoms. \n",
    "$$ distance = [(x2-x1)^2 + (y2-y1)^2 + (z2-z1)^2]^.5 $$"
   ]
  },
  {
   "cell_type": "code",
   "execution_count": 3,
   "metadata": {},
   "outputs": [],
   "source": [
    "# To square stuff\n",
    "sample_number = 3**2"
   ]
  },
  {
   "cell_type": "code",
   "execution_count": 6,
   "metadata": {},
   "outputs": [
    {
     "ename": "NameError",
     "evalue": "name 'sample_number' is not defined",
     "output_type": "error",
     "traceback": [
      "\u001b[0;31m---------------------------------------------------------------------------\u001b[0m",
      "\u001b[0;31mNameError\u001b[0m                                 Traceback (most recent call last)",
      "\u001b[0;32m<ipython-input-6-76673c3fde4f>\u001b[0m in \u001b[0;36m<module>\u001b[0;34m\u001b[0m\n\u001b[1;32m      3\u001b[0m \u001b[0;34m\u001b[0m\u001b[0m\n\u001b[1;32m      4\u001b[0m \u001b[0;31m# Take the square root\u001b[0m\u001b[0;34m\u001b[0m\u001b[0;34m\u001b[0m\u001b[0;34m\u001b[0m\u001b[0m\n\u001b[0;32m----> 5\u001b[0;31m \u001b[0mnumpy\u001b[0m\u001b[0;34m.\u001b[0m\u001b[0msqrt\u001b[0m\u001b[0;34m(\u001b[0m\u001b[0msample_number\u001b[0m\u001b[0;34m)\u001b[0m\u001b[0;34m\u001b[0m\u001b[0;34m\u001b[0m\u001b[0m\n\u001b[0m",
      "\u001b[0;31mNameError\u001b[0m: name 'sample_number' is not defined"
     ]
    }
   ],
   "source": [
    "import numpy\n",
    "import os\n",
    "\n",
    "# Take the square root\n",
    "numpy.sqrt(sample_number)"
   ]
  },
  {
   "cell_type": "code",
   "execution_count": 5,
   "metadata": {},
   "outputs": [
    {
     "ename": "SyntaxError",
     "evalue": "invalid syntax (<ipython-input-5-ee1a3701b514>, line 1)",
     "output_type": "error",
     "traceback": [
      "\u001b[0;36m  File \u001b[0;32m\"<ipython-input-5-ee1a3701b514>\"\u001b[0;36m, line \u001b[0;32m1\u001b[0m\n\u001b[0;31m    This is what I want your output to look like:\u001b[0m\n\u001b[0m                 ^\u001b[0m\n\u001b[0;31mSyntaxError\u001b[0m\u001b[0;31m:\u001b[0m invalid syntax\n"
     ]
    }
   ],
   "source": [
    "This is what I want your output to look like:\n",
    "\n",
    "O to O: 0.0\n",
    "O to H1: 0.969\n",
    "O to H2: 0.969\n",
    "H1 to O: 0.969\n",
    "H2 to H1: 0.0\n",
    "H1 to H2: 1.527\n",
    "H2 to O: 0.969\n",
    "H2 to H1: 1.527\n",
    "H2 to H2: 0.0"
   ]
  },
  {
   "cell_type": "code",
   "execution_count": 8,
   "metadata": {},
   "outputs": [
    {
     "name": "stdout",
     "output_type": "stream",
     "text": [
      "O to H1 : 0.969\n",
      "O to H2 : 0.969\n"
     ]
    }
   ],
   "source": [
    "file_location= os.path.join('data','water.xyz')\n",
    "xyz_file=numpy.genfromtxt(fname=file_location,skip_header=2,\n",
    "                         dtype='unicode')\n",
    "symbols=xyz_file[:,0]\n",
    "coordinates=(xyz_file[:,1:])\n",
    "coordinates=coordinates.astype(numpy.float)\n",
    "num_atoms=len(symbols)\n",
    "for num1 in range(0,num_atoms):\n",
    "    for num2 in range(0,num_atoms):\n",
    "        if num1<num2:\n",
    "            x_distance=coordinates[num1,0]-coordinates[num2,0]\n",
    "            y_distance=coordinates[num1,1]-coordinates[num2,1]\n",
    "            z_distance=coordinates[num1,2]-coordinates[num2,2]\n",
    "            atom_distance=numpy.sqrt(x_distance**2+y_distance**2+z_distance**2)\n",
    "            if atom_distance > 0 and atom_distance <=1.5:\n",
    "                print(F'{symbols[num1]} to {symbols[num2]} : {bond_length_12:.3f}')"
   ]
  },
  {
   "cell_type": "code",
   "execution_count": 1,
   "metadata": {},
   "outputs": [
    {
     "name": "stdout",
     "output_type": "stream",
     "text": [
      "O to O : 0.000\n",
      "O to H1 : 0.969\n",
      "O to H2 : 0.969\n",
      "H1 to O : 0.969\n",
      "H1 to H1 : 0.000\n",
      "H1 to H2 : 1.527\n",
      "H2 to O : 0.969\n",
      "H2 to H1 : 1.527\n",
      "H2 to H2 : 0.000\n"
     ]
    }
   ],
   "source": [
    "import numpy\n",
    "import os\n",
    "file_location = os.path.join('data', 'water.xyz')\n",
    "xyzfile = open(file_location,\"r\")\n",
    "data=xyzfile.readlines()\n",
    "num_atoms = int(data[0])\n",
    "data = data[2:]\n",
    "\n",
    "symbols = []\n",
    "coordinates = []\n",
    "\n",
    "for atom in data:\n",
    "    atom_data = atom.split()\n",
    "    symbol = atom_data[0]\n",
    "    symbols.append(symbol)\n",
    "    x, y, z = atom_data[1], atom_data[2], atom_data[3]\n",
    "    coordinates.append([float(x), float(y), float(z)])\n",
    "\n",
    "for num1 in range(0,num_atoms):\n",
    "    for num2 in range(0,num_atoms):\n",
    "        atom1 = coordinates[num1]\n",
    "        atom2 = coordinates[num2]\n",
    "        x_distance = atom1[0] - atom2[0]\n",
    "        y_distance = atom1[1] - atom2[1]\n",
    "        z_distance = atom1[2] - atom2[2]\n",
    "        bond_length_12 = numpy.sqrt(x_distance**2+y_distance**2+z_distance**2)\n",
    "        print(F'{symbols[num1]} to {symbols[num2]} : {bond_length_12:.3f}')"
   ]
  },
  {
   "cell_type": "code",
   "execution_count": null,
   "metadata": {},
   "outputs": [],
   "source": []
  }
 ],
 "metadata": {
  "kernelspec": {
   "display_name": "Python 3",
   "language": "python",
   "name": "python3"
  },
  "language_info": {
   "codemirror_mode": {
    "name": "ipython",
    "version": 3
   },
   "file_extension": ".py",
   "mimetype": "text/x-python",
   "name": "python",
   "nbconvert_exporter": "python",
   "pygments_lexer": "ipython3",
   "version": "3.7.6"
  }
 },
 "nbformat": 4,
 "nbformat_minor": 4
}
