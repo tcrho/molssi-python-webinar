{
 "cells": [
  {
   "cell_type": "markdown",
   "metadata": {},
   "source": [
    "# Week 2 Homework\n",
    "\n",
    "Write code to read in the information from the xyz file and measure the distance between all the atoms. \n",
    "$$ distance = [(x2-x1)^2 + (y2-y1)^2 + (z2-z1)^2]^.5 $$"
   ]
  },
  {
   "cell_type": "code",
   "execution_count": 1,
   "metadata": {},
   "outputs": [
    {
     "ename": "SyntaxError",
     "evalue": "invalid syntax (<ipython-input-1-ee1a3701b514>, line 1)",
     "output_type": "error",
     "traceback": [
      "\u001b[0;36m  File \u001b[0;32m\"<ipython-input-1-ee1a3701b514>\"\u001b[0;36m, line \u001b[0;32m1\u001b[0m\n\u001b[0;31m    This is what I want your output to look like:\u001b[0m\n\u001b[0m                 ^\u001b[0m\n\u001b[0;31mSyntaxError\u001b[0m\u001b[0;31m:\u001b[0m invalid syntax\n"
     ]
    }
   ],
   "source": [
    "This is what I want your output to look like:\n",
    "\n",
    "O to O: 0.0\n",
    "O to H1: 0.969\n",
    "O to H2: 0.969\n",
    "H1 to O: 0.969\n",
    "H2 to H1: 0.0\n",
    "H1 to H2: 1.527\n",
    "H2 to O: 0.969\n",
    "H2 to H1: 1.527\n",
    "H2 to H2: 0.0"
   ]
  },
  {
   "cell_type": "code",
   "execution_count": 2,
   "metadata": {},
   "outputs": [],
   "source": [
    "import numpy\n",
    "import os"
   ]
  },
  {
   "cell_type": "code",
   "execution_count": 83,
   "metadata": {},
   "outputs": [
    {
     "name": "stdout",
     "output_type": "stream",
     "text": [
      "['O        0.000000     -0.007156      0.965491\\n', 'H1      -0.000000      0.001486     -0.003471\\n', 'H2       0.000000      0.931026      1.207929\\n']\n"
     ]
    }
   ],
   "source": [
    "file_location = os.path.join('data', 'water.xyz')\n",
    "xyzfile = open(file_location,\"r\")\n",
    "data=xyzfile.readlines()\n",
    "num_atoms = int(data[0])\n",
    "data = data[2:]\n",
    "\n",
    "for atom in line:\n",
    "    atom_data=atom.split()\n",
    "    symbol = atom_data[0]\n",
    "    symbols.append(symbol)\n",
    "    \n",
    "# atoms=water[:,0]\n",
    "# atom_list=[]\n",
    "# for line in atoms:\n",
    "#     atom_list.append(line)\n",
    "print(data)\n",
    "\n",
    "# distance_list=[]\n",
    "# distance=water[:,1:]\n",
    "# for line in distance:\n",
    "    \n",
    "# print(distance)\n",
    "\n",
    "# atomList = []\n",
    "# atoms = \"\"\n",
    "# num_atoms = len(atoms)\n",
    "# for line in range(xyz):\n",
    "# #     line = data.astype(numpy.float)\n",
    "#     line = [:,0]\n",
    "\n",
    "#     print(line)\n",
    "    \n",
    "    \n",
    "# # atoms=xyz[:,0]\n",
    "# coordinates=xyz[:,1:]\n",
    "# coordinates = data.astype(numpy.float)\n",
    "# num_atoms=len(atoms)\n",
    "# for num1 in range(0,number_atoms):\n",
    "#     x_distance=coordinates[1,0]-coordinates[2,0]\n",
    "#     y_distance=coordinates[1,1]-coordinates[2,1]\n",
    "#     z_distance=coordinates[1,2]-coordinates[2,2]\n",
    "#     length=numpy.sqrt(x_distance**2+y_distance**2+z_distance**2)\n",
    "# #         print(F'{atoms[num1]} to {atoms[num2]}')\n",
    "#     print(length)\n",
    "\n",
    "\n",
    "\n",
    "\n",
    "# water_xyz.close()"
   ]
  },
  {
   "cell_type": "code",
   "execution_count": null,
   "metadata": {},
   "outputs": [],
   "source": []
  },
  {
   "cell_type": "code",
   "execution_count": null,
   "metadata": {},
   "outputs": [],
   "source": []
  },
  {
   "cell_type": "code",
   "execution_count": null,
   "metadata": {},
   "outputs": [],
   "source": []
  },
  {
   "cell_type": "code",
   "execution_count": null,
   "metadata": {},
   "outputs": [],
   "source": []
  },
  {
   "cell_type": "code",
   "execution_count": null,
   "metadata": {},
   "outputs": [],
   "source": []
  }
 ],
 "metadata": {
  "kernelspec": {
   "display_name": "Python 3",
   "language": "python",
   "name": "python3"
  },
  "language_info": {
   "codemirror_mode": {
    "name": "ipython",
    "version": 3
   },
   "file_extension": ".py",
   "mimetype": "text/x-python",
   "name": "python",
   "nbconvert_exporter": "python",
   "pygments_lexer": "ipython3",
   "version": "3.7.6"
  }
 },
 "nbformat": 4,
 "nbformat_minor": 4
}
